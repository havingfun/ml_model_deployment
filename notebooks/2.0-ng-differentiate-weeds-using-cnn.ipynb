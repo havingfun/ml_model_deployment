{
 "cells": [
  {
   "cell_type": "markdown",
   "metadata": {},
   "source": [
    "# Differentiate weeds from crop seedlings using a convolutional neural network (CNN)\n",
    "\n",
    "The goal of the project is to correctly identify the weed type from a variety of weed and crop RGB images using a relatively big dataset (~2GB).\n",
    "\n",
    "Created on Sun Jan 12 12:33:49 2020\n",
    "\n",
    "@author: neal gilmore"
   ]
  },
  {
   "cell_type": "markdown",
   "metadata": {},
   "source": [
    "## What is the objective of the machine learning model?\n",
    "\n",
    "We aim to maximise the accuracy, i.e., the correct classification of the different weed varieties."
   ]
  },
  {
   "cell_type": "markdown",
   "metadata": {},
   "source": [
    "## Table of Contents<a id='0.0'></a>\n",
    "\n",
    "#### [STEP 1: Environment Preparation](#1.0)\n",
    "1.1 [Import required libraries](#1.1)  \n",
    "1.2 [Prepare for reproducability](#1.2)  \n",
    "\n",
    "#### [STEP 2: Data Preparation](#2.0)\n",
    "2.1 [Join training and test sets](#2.1)  \n",
    "2.2 [Import data](#2.2)  \n",
    "2.3 [Summary statistics](#2.3) \n",
    "\n",
    "#### [STEP 3: Data Analysis](#3.0)\n",
    "3.1 \n",
    "\n",
    "\n",
    "#### [STEP 4: Feature Engineering](#4.0)\n",
    "4.1  \n",
    "\n",
    "#### [STEP 5: Feature Selection](#5.0)\n",
    "5.1 \n",
    "\n",
    "#### [STEP 6: Model Building](#6.0)\n",
    "6.1   "
   ]
  },
  {
   "cell_type": "markdown",
   "metadata": {},
   "source": [
    "## STEP 1: Environment Preparation<a id='1.0'></a> [(Top)](#0.0)"
   ]
  },
  {
   "cell_type": "markdown",
   "metadata": {},
   "source": [
    "### 1.1 Import required libraries<a id='1.1'></a> [(Top)](#0.0)"
   ]
  },
  {
   "cell_type": "code",
   "execution_count": null,
   "metadata": {},
   "outputs": [],
   "source": []
  },
  {
   "cell_type": "markdown",
   "metadata": {},
   "source": [
    "### 1.2 Prepare for reproducability<a id=\"1.2\"></a>[(Top)](#0.0)"
   ]
  },
  {
   "cell_type": "code",
   "execution_count": 2,
   "metadata": {},
   "outputs": [],
   "source": [
    "# Set random seed to maintain reproducability\n",
    "random_state = np.random.seed(42)"
   ]
  },
  {
   "cell_type": "markdown",
   "metadata": {},
   "source": [
    "## STEP 2: Data Preparation<a id='2.0'></a> [(Top)](#0.0)"
   ]
  },
  {
   "cell_type": "markdown",
   "metadata": {},
   "source": []
  }
 ],
 "metadata": {
  "kernelspec": {
   "display_name": "Python 3",
   "language": "python",
   "name": "python3"
  },
  "language_info": {
   "codemirror_mode": {
    "name": "ipython",
    "version": 3
   },
   "file_extension": ".py",
   "mimetype": "text/x-python",
   "name": "python",
   "nbconvert_exporter": "python",
   "pygments_lexer": "ipython3",
   "version": "3.7.3"
  }
 },
 "nbformat": 4,
 "nbformat_minor": 2
}
